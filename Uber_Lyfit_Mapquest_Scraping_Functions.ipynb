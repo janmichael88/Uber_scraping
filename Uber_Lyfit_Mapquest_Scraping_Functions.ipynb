{
 "cells": [
  {
   "cell_type": "markdown",
   "metadata": {},
   "source": [
    "This function pulls from the Uber Website estimated fares from from a list of zip codes to both MHT and BOS, and returns a dataframe. With the time stamp as the category and hour of day"
   ]
  },
  {
   "cell_type": "code",
   "execution_count": 1,
   "metadata": {},
   "outputs": [],
   "source": [
    "import pandas as pd\n",
    "import numpy as np\n",
    "from bs4 import BeautifulSoup\n",
    "from selenium.webdriver.common.action_chains import ActionChains\n",
    "from selenium import webdriver\n",
    "import datetime\n",
    "from tinydb import TinyDB, Query\n",
    "import urllib3\n",
    "import xlsxwriter\n",
    "from selenium import webdriver\n",
    "from webdriver_manager.chrome import ChromeDriverManager\n",
    "from selenium.webdriver.support.ui import Select\n",
    "\n",
    "from selenium.webdriver.support.ui import WebDriverWait\n",
    "from selenium.webdriver.support import expected_conditions as EC\n",
    "import time\n",
    "from selenium.webdriver.common.keys import Keys\n",
    "import datetime"
   ]
  },
  {
   "cell_type": "code",
   "execution_count": 1,
   "metadata": {},
   "outputs": [],
   "source": [
    "#test zips\n",
    "#update list of zips\n",
    "a = '01364,01366,01031,01368,01037,01331,01094,03447,01531,01005,01074,01436,01468,03452,01068,01475,01438,01452,01441,01440,03461,01543,03458,01612,01430,01473,01541,01522,03071,03084,01520,01431,01420,01583,01564,03086,01453,03048,01474,01462,01505,01469,01510,01561,03033,03055,01523,01464,01472,01503,01467,01434,03031,01740,01463,03049,01451,01450,01470,01471,01432,01749,03063,01719,03054,01775,01827,03062,01460,03064,03061,03060,01754,03052,01886,01720,01879,01718,01776,03051,03053,01863,01742,01741,01824,01854,01851,03076,01773,01853,01826,01850,03087,01852,01862,03041,01731,03038,01730,01822,01865,02451,01821,02421,01876,01866,03079,03073,02420,01803,02479,01805,01844,05501,02476,03841,01887,01810,01842,01841,02474,01843,03811,01840,01801,01813,01815,01888,01890,02475,01812,01899,01832,02156,03819,03826,02155,01867,02180,03865,01845,01864,01835,01889,01831,01880,03859,01885,03848,01830,02148,02176,03858,01940,01921,01949,03861,01906,01860,01834,03833,01937,01905,01833,03827,01960,01904,01985,03856,03857,01913,01923,01910,01903,01901,01983,01902,03823,01961,03824,01922,01970,01907,03885,01971,01969,03844,01950,01984,03874,01945,01952,01982,01915,01936,03843,03840,01951,01938,03842,03862,01965,03801,03903,01929,03871,01944,03802,03803,03804,03870,03904,03854,03905,01930,03909,01931,03911,01966'"
   ]
  },
  {
   "cell_type": "code",
   "execution_count": 2,
   "metadata": {},
   "outputs": [],
   "source": [
    "def pull_uber_fares(list_zip_codes):\n",
    "    '''the only input should be a list of zip codes as a string for your selection'''\n",
    "    '''returns a dataframe'''\n",
    "    \n",
    "    #import necessary dependencies\n",
    "    import pandas as pd\n",
    "    import numpy as np\n",
    "    from bs4 import BeautifulSoup\n",
    "    from selenium.webdriver.common.action_chains import ActionChains\n",
    "    from selenium import webdriver\n",
    "    import datetime\n",
    "    from tinydb import TinyDB, Query\n",
    "    import urllib3\n",
    "    import xlsxwriter\n",
    "    from selenium import webdriver\n",
    "    from webdriver_manager.chrome import ChromeDriverManager\n",
    "    from selenium.webdriver.support.ui import Select\n",
    "\n",
    "    from selenium.webdriver.support.ui import WebDriverWait\n",
    "    from selenium.webdriver.support import expected_conditions as EC\n",
    "    import time\n",
    "    from selenium.webdriver.common.keys import Keys\n",
    "    import datetime\n",
    "    \n",
    "    #pull apart string zip codes\n",
    "    zip_codes = []\n",
    "    for b in [b for b in list_zip_codes.split(',')]:\n",
    "        zip_codes.append(b)\n",
    "    #create driver    \n",
    "    driver = webdriver.Chrome(ChromeDriverManager().install())\n",
    "    #lets try uber first\n",
    "    uber = 'https://www.uber.com/us/en/price-estimate/'\n",
    "    #get the website\n",
    "    driver.get(uber)\n",
    "\n",
    "    airports = ['Manchester-Boston Regional Airport, 1 Airport Rd, Manchester, NH',\n",
    "               'Boston Logan International Airport, 1 Harborside Dr, Boston, MA']\n",
    "\n",
    "    #these are lists of lists len3\n",
    "    MHT = []\n",
    "    BOS = []\n",
    "    airport_price_lists = [MHT,BOS]\n",
    "\n",
    "    uber_Tier1_prices = []\n",
    "    uber_Tier2_prices = []\n",
    "    uber_Tier3_prices = []\n",
    "\n",
    "    #pass over both aiports\n",
    "    for h in range(0, len(airports)):\n",
    "        #find element id\n",
    "        for i in range(0,len(zip_codes)):\n",
    "            driver.implicitly_wait(4)\n",
    "            starting = driver.find_element_by_name('pickup')\n",
    "            time.sleep(1)\n",
    "            starting.clear()\n",
    "            starting.send_keys(zip_codes[i])\n",
    "            time.sleep(1)\n",
    "            starting.send_keys(Keys.ENTER)\n",
    "\n",
    "            starting = driver.find_element_by_name('destination')\n",
    "            time.sleep(1)\n",
    "            starting.clear()\n",
    "            starting.send_keys(airports[h])\n",
    "            time.sleep(1)\n",
    "            starting.send_keys(Keys.RETURN)\n",
    "            time.sleep(1)\n",
    "\n",
    "            #pull values from website\n",
    "            #First Tier\n",
    "            try:\n",
    "                element = driver.find_element_by_xpath('//*[@id=\"main\"]/div[2]/div/div/div/div[1]/div[2]/div[1]/div[1]/div[1]/div/span')\n",
    "                uber_Tier1_prices.append(element.text)\n",
    "            except:\n",
    "                uber_Tier1_prices.append(np.nan)\n",
    "            \n",
    "            #Second Tier\n",
    "            try:        \n",
    "                element = driver.find_element_by_xpath('//*[@id=\"main\"]/div[2]/div/div/div/div[1]/div[2]/div[1]/div[2]/div[1]/div/span')\n",
    "                uber_Tier2_prices.append(element.text)\n",
    "            except:\n",
    "                uber_Tier2_prices.append(np.nan)\n",
    "            #Third Tier\n",
    "            try:\n",
    "                element = driver.find_element_by_xpath('//*[@id=\"main\"]/div[2]/div/div/div/div[1]/div[2]/div[1]/div[3]/div[1]/div/span')\n",
    "                uber_Tier3_prices.append(element.text)\n",
    "            except:\n",
    "                uber_Tier3_prices.append(np.nan)\n",
    "        \n",
    "        #dump into right lists\n",
    "        airport_price_lists[h].append(uber_Tier1_prices)\n",
    "        airport_price_lists[h].append(uber_Tier2_prices)\n",
    "        airport_price_lists[h].append(uber_Tier3_prices)\n",
    "\n",
    "        #reassign ubers_lists\n",
    "        uber_Tier1_prices = []\n",
    "        uber_Tier2_prices = []\n",
    "        uber_Tier3_prices = []\n",
    "        #done with loops\n",
    "        \n",
    "        #create zip_codes df\n",
    "        zip_codes_df_BOS = pd.DataFrame(zip_codes,columns=[\"Zip_Codes\"])\n",
    "        zip_codes_df_MHT = pd.DataFrame(zip_codes,columns=[\"Zip_Codes\"])\n",
    "        \n",
    "    \n",
    "    #put back in the right frames, start with MHT\n",
    "    uber_col_names = ['Tier1','Tier2','Tier3']\n",
    "    for i in range(0,len(airport_price_lists[0])):\n",
    "       #add to dataframe\n",
    "        zip_codes_df_MHT[uber_col_names[i]] = airport_price_lists[0][i]\n",
    "    \n",
    "    \n",
    "    #put back into BOSTON\n",
    "    uber_col_names = ['Tier1','Tier2','Tier3']\n",
    "    for i in range(0,len(airport_price_lists[0])):\n",
    "       #add to dataframe\n",
    "        zip_codes_df_BOS[uber_col_names[i]] = airport_price_lists[1][i]\n",
    "    \n",
    "    #add in Desitnation airpots\n",
    "    zip_codes_df_MHT['Destination'] = ['MHT' for foo in range(len(zip_codes))]\n",
    "    zip_codes_df_BOS['Destination'] = ['BOS' for foo in range(len(zip_codes))]\n",
    "    \n",
    "    \n",
    "    #stack frames\n",
    "    final_frame = pd.concat([zip_codes_df_MHT,zip_codes_df_BOS])\n",
    "    #add in compnay name\n",
    "    final_frame['Company'] = ['Uber' for foo in range(final_frame.shape[0])]\n",
    "    #get day of week\n",
    "    day_week = datetime.datetime.today().weekday()\n",
    "    #get hour of day\n",
    "    hour = datetime.datetime.now().hour\n",
    "    final_frame['Day'] = [day_week for foo in range(final_frame.shape[0])]\n",
    "    final_frame['Hour'] = [hour for foo in range(final_frame.shape[0])]\n",
    "    \n",
    "    #add in company name\n",
    "    final_frame['Company'] = ['Uber' for foo in range(final_frame.shape[0])]\n",
    "    \n",
    "    #melt\n",
    "    final_frame = pd.melt(final_frame,id_vars=['Zip_Codes','Destination','Company','Day','Hour'],\n",
    "       value_vars=['Tier1','Tier2','Tier3'],var_name='Tier',value_name='Fare')\n",
    "    \n",
    "    return(final_frame)\n",
    "    \n",
    "    \n",
    "    "
   ]
  },
  {
   "cell_type": "code",
   "execution_count": 3,
   "metadata": {},
   "outputs": [
    {
     "name": "stdout",
     "output_type": "stream",
     "text": [
      "Trying to download new driver from http://chromedriver.storage.googleapis.com/79.0.3945.36/chromedriver_mac64.zip\n",
      "Unpack archive /Users/janmichaelaustria/.wdm/drivers/chromedriver/79.0.3945.36/mac64/chromedriver.zip\n"
     ]
    }
   ],
   "source": [
    "b = pull_uber_fares(list_zip_codes=a)"
   ]
  },
  {
   "cell_type": "code",
   "execution_count": 8,
   "metadata": {
    "scrolled": true
   },
   "outputs": [],
   "source": [
    "b.to_csv('Uber_Fares_Friday_AM.csv')"
   ]
  },
  {
   "cell_type": "markdown",
   "metadata": {},
   "source": [
    "WORKS!! YAY!!"
   ]
  },
  {
   "cell_type": "markdown",
   "metadata": {},
   "source": [
    "This code pulls travel time and distances from mapquest, again the only input function should be a string of zip codes"
   ]
  },
  {
   "cell_type": "code",
   "execution_count": 30,
   "metadata": {},
   "outputs": [],
   "source": [
    "def pull_distance_time(list_zip_codes):\n",
    "    '''the only input should be a list of zip codes as a string for your selection'''\n",
    "    '''returns a dataframe'''\n",
    "    \n",
    "    #import necessary dependencies\n",
    "    import pandas as pd\n",
    "    import numpy as np\n",
    "    from bs4 import BeautifulSoup\n",
    "    from selenium.webdriver.common.action_chains import ActionChains\n",
    "    from selenium import webdriver\n",
    "    import datetime\n",
    "    from tinydb import TinyDB, Query\n",
    "    import urllib3\n",
    "    import xlsxwriter\n",
    "    from selenium import webdriver\n",
    "    from webdriver_manager.chrome import ChromeDriverManager\n",
    "    from selenium.webdriver.support.ui import Select\n",
    "\n",
    "    from selenium.webdriver.support.ui import WebDriverWait\n",
    "    from selenium.webdriver.support import expected_conditions as EC\n",
    "    import time\n",
    "    from selenium.webdriver.common.keys import Keys\n",
    "    import datetime\n",
    "    \n",
    "    #pull apart string zip codes\n",
    "    zip_codes = []\n",
    "    for b in [b for b in list_zip_codes.split(',')]:\n",
    "        zip_codes.append(b)\n",
    "    #create driver    \n",
    "    driver = webdriver.Chrome(ChromeDriverManager().install())\n",
    "    map_quest = 'https://www.mapquest.com/directions'\n",
    "    #get the website\n",
    "    driver.get(map_quest)\n",
    "\n",
    "    airports = ['Manchester-Boston Regional Airport, 1 Airport Rd, Manchester, NH',\n",
    "               'General Edward Lawrence Logan International Airport (BOS)']\n",
    "    \n",
    "    #these are lists of lists len2\n",
    "    MHT = []\n",
    "    BOS = []\n",
    "    map_quest_lists = [MHT,BOS]\n",
    "    \n",
    "    #init lists to store miles and distance\n",
    "    list_travel_times = []\n",
    "    list_distances = []\n",
    "    \n",
    "    #pass over both aiports\n",
    "    for h in range(0, len(airports)):\n",
    "        #locate destination box\n",
    "        driver.implicitly_wait(3)\n",
    "        starting = driver.find_element_by_xpath('//*[@id=\"primaryPanel\"]/div[5]/div[3]/div/div/div[2]/div[1]/form/div[1]/div[1]/ul/li[2]/directions-route-stop/div/dnd-nodrag/ng-transclude/div/div[1]/div/input')\n",
    "        starting.clear()\n",
    "        #input airport\n",
    "        starting.send_keys(airports[h])\n",
    "        time.sleep(1)\n",
    "        starting.send_keys(Keys.DOWN)\n",
    "        time.sleep(1)\n",
    "        starting.send_keys(Keys.RETURN)\n",
    "        time.sleep(1)\n",
    "        #find element ids\n",
    "        for i in range(0, len(zip_codes)):\n",
    "            #find input\n",
    "            starting = driver.find_element_by_xpath('//*[@id=\"primaryPanel\"]/div[5]/div[3]/div/div/div[2]/div[1]/form/div[1]/div[1]/ul/li[1]/directions-route-stop/div/dnd-nodrag/ng-transclude/div/div[1]/div/input')\n",
    "            time.sleep(1)\n",
    "            starting.clear()\n",
    "            starting.send_keys(zip_codes[i])\n",
    "            time.sleep(1)\n",
    "            starting.send_keys(Keys.DOWN)\n",
    "            time.sleep(1)\n",
    "            starting.send_keys(Keys.ENTER)\n",
    "            time.sleep(1)\n",
    "                \n",
    "            try:\n",
    "                element = driver.find_element_by_xpath('//*[@id=\"primaryPanel\"]/div[5]/div[3]/div/div/div[2]/div[1]/form/div[2]/div/div/div/route-info/div/div[2]/div[2]/span[1]')\n",
    "                list_travel_times.append(element.text)\n",
    "            except:\n",
    "                list_travel_times.appendend(np.nan)\n",
    "            try:      \n",
    "                element = driver.find_element_by_xpath('//*[@id=\"primaryPanel\"]/div[5]/div[3]/div/div/div[2]/div[1]/form/div[2]/div/div/div/route-info/div/div[2]/div[2]/div')\n",
    "                list_distances.append(element.text)\n",
    "            except:\n",
    "                list_distances.append(np.nan)\n",
    "                \n",
    "        #dump into right lists\n",
    "        map_quest_lists[h].append(list_travel_times)\n",
    "        map_quest_lists[h].append(list_distances)\n",
    "        \n",
    "        #reassign ubers_lists\n",
    "        list_travel_times = []\n",
    "        list_distances = []\n",
    "        #done with loops\n",
    "        \n",
    "    #put into frames now\n",
    "    zip_codes_df_BOS = pd.DataFrame(zip_codes,columns=[\"Zip_Codes\"])\n",
    "    zip_codes_df_MHT = pd.DataFrame(zip_codes,columns=[\"Zip_Codes\"])\n",
    "    \n",
    "    #put back in the right frames, MHT\n",
    "    col_names = ['Time','Distance']\n",
    "    for i in range(0,len(map_quest_lists[0])):\n",
    "       #add to dataframe\n",
    "        zip_codes_df_MHT[col_names[i]] = map_quest_lists[0][i]\n",
    "        \n",
    "    #put back in the right frames, BOS\n",
    "    col_names = ['Time','Distance']\n",
    "    for i in range(0,len(map_quest_lists[0])):\n",
    "       #add to dataframe\n",
    "        zip_codes_df_BOS[col_names[i]] = map_quest_lists[1][i]\n",
    "        \n",
    "    #add in Desitnation airpots\n",
    "    zip_codes_df_MHT['Destination'] = ['MHT' for foo in range(len(zip_codes))]\n",
    "    zip_codes_df_BOS['Destination'] = ['BOS' for foo in range(len(zip_codes))]\n",
    "    \n",
    "    #stack frames\n",
    "    final_frame = pd.concat([zip_codes_df_MHT,zip_codes_df_BOS])\n",
    "    \n",
    "    #get day of week\n",
    "    day_week = datetime.datetime.today().weekday()\n",
    "    #get hour of day\n",
    "    hour = datetime.datetime.now().hour\n",
    "    final_frame['Day'] = [day_week for foo in range(final_frame.shape[0])]\n",
    "    final_frame['Hour'] = [hour for foo in range(final_frame.shape[0])]\n",
    "    \n",
    "    return(final_frame)"
   ]
  },
  {
   "cell_type": "code",
   "execution_count": 31,
   "metadata": {},
   "outputs": [
    {
     "name": "stdout",
     "output_type": "stream",
     "text": [
      "\n",
      "Looking for [chromedriver 79.0.3945.36 mac64] driver in cache \n",
      "File found in cache by path [/Users/janmichaelaustria/.wdm/drivers/chromedriver/79.0.3945.36/mac64/chromedriver]\n"
     ]
    },
    {
     "ename": "AttributeError",
     "evalue": "'list' object has no attribute 'appendend'",
     "output_type": "error",
     "traceback": [
      "\u001b[0;31m---------------------------------------------------------------------------\u001b[0m",
      "\u001b[0;31mWebDriverException\u001b[0m                        Traceback (most recent call last)",
      "\u001b[0;32m<ipython-input-30-2daa2be4e93d>\u001b[0m in \u001b[0;36mpull_distance_time\u001b[0;34m(list_zip_codes)\u001b[0m\n\u001b[1;32m     73\u001b[0m             \u001b[0;32mtry\u001b[0m\u001b[0;34m:\u001b[0m\u001b[0;34m\u001b[0m\u001b[0;34m\u001b[0m\u001b[0m\n\u001b[0;32m---> 74\u001b[0;31m                 \u001b[0melement\u001b[0m \u001b[0;34m=\u001b[0m \u001b[0mdriver\u001b[0m\u001b[0;34m.\u001b[0m\u001b[0mfind_element_by_xpath\u001b[0m\u001b[0;34m(\u001b[0m\u001b[0;34m'//*[@id=\"primaryPanel\"]/div[5]/div[3]/div/div/div[2]/div[1]/form/div[2]/div/div/div/route-info/div/div[2]/div[2]/span[1]'\u001b[0m\u001b[0;34m)\u001b[0m\u001b[0;34m\u001b[0m\u001b[0;34m\u001b[0m\u001b[0m\n\u001b[0m\u001b[1;32m     75\u001b[0m                 \u001b[0mlist_travel_times\u001b[0m\u001b[0;34m.\u001b[0m\u001b[0mappend\u001b[0m\u001b[0;34m(\u001b[0m\u001b[0melement\u001b[0m\u001b[0;34m.\u001b[0m\u001b[0mtext\u001b[0m\u001b[0;34m)\u001b[0m\u001b[0;34m\u001b[0m\u001b[0;34m\u001b[0m\u001b[0m\n",
      "\u001b[0;32m/anaconda3/lib/python3.7/site-packages/selenium/webdriver/remote/webdriver.py\u001b[0m in \u001b[0;36mfind_element_by_xpath\u001b[0;34m(self, xpath)\u001b[0m\n\u001b[1;32m    393\u001b[0m         \"\"\"\n\u001b[0;32m--> 394\u001b[0;31m         \u001b[0;32mreturn\u001b[0m \u001b[0mself\u001b[0m\u001b[0;34m.\u001b[0m\u001b[0mfind_element\u001b[0m\u001b[0;34m(\u001b[0m\u001b[0mby\u001b[0m\u001b[0;34m=\u001b[0m\u001b[0mBy\u001b[0m\u001b[0;34m.\u001b[0m\u001b[0mXPATH\u001b[0m\u001b[0;34m,\u001b[0m \u001b[0mvalue\u001b[0m\u001b[0;34m=\u001b[0m\u001b[0mxpath\u001b[0m\u001b[0;34m)\u001b[0m\u001b[0;34m\u001b[0m\u001b[0;34m\u001b[0m\u001b[0m\n\u001b[0m\u001b[1;32m    395\u001b[0m \u001b[0;34m\u001b[0m\u001b[0m\n",
      "\u001b[0;32m/anaconda3/lib/python3.7/site-packages/selenium/webdriver/remote/webdriver.py\u001b[0m in \u001b[0;36mfind_element\u001b[0;34m(self, by, value)\u001b[0m\n\u001b[1;32m    977\u001b[0m             \u001b[0;34m'using'\u001b[0m\u001b[0;34m:\u001b[0m \u001b[0mby\u001b[0m\u001b[0;34m,\u001b[0m\u001b[0;34m\u001b[0m\u001b[0;34m\u001b[0m\u001b[0m\n\u001b[0;32m--> 978\u001b[0;31m             'value': value})['value']\n\u001b[0m\u001b[1;32m    979\u001b[0m \u001b[0;34m\u001b[0m\u001b[0m\n",
      "\u001b[0;32m/anaconda3/lib/python3.7/site-packages/selenium/webdriver/remote/webdriver.py\u001b[0m in \u001b[0;36mexecute\u001b[0;34m(self, driver_command, params)\u001b[0m\n\u001b[1;32m    320\u001b[0m         \u001b[0;32mif\u001b[0m \u001b[0mresponse\u001b[0m\u001b[0;34m:\u001b[0m\u001b[0;34m\u001b[0m\u001b[0;34m\u001b[0m\u001b[0m\n\u001b[0;32m--> 321\u001b[0;31m             \u001b[0mself\u001b[0m\u001b[0;34m.\u001b[0m\u001b[0merror_handler\u001b[0m\u001b[0;34m.\u001b[0m\u001b[0mcheck_response\u001b[0m\u001b[0;34m(\u001b[0m\u001b[0mresponse\u001b[0m\u001b[0;34m)\u001b[0m\u001b[0;34m\u001b[0m\u001b[0;34m\u001b[0m\u001b[0m\n\u001b[0m\u001b[1;32m    322\u001b[0m             response['value'] = self._unwrap_value(\n",
      "\u001b[0;32m/anaconda3/lib/python3.7/site-packages/selenium/webdriver/remote/errorhandler.py\u001b[0m in \u001b[0;36mcheck_response\u001b[0;34m(self, response)\u001b[0m\n\u001b[1;32m    241\u001b[0m             \u001b[0;32mraise\u001b[0m \u001b[0mexception_class\u001b[0m\u001b[0;34m(\u001b[0m\u001b[0mmessage\u001b[0m\u001b[0;34m,\u001b[0m \u001b[0mscreen\u001b[0m\u001b[0;34m,\u001b[0m \u001b[0mstacktrace\u001b[0m\u001b[0;34m,\u001b[0m \u001b[0malert_text\u001b[0m\u001b[0;34m)\u001b[0m\u001b[0;34m\u001b[0m\u001b[0;34m\u001b[0m\u001b[0m\n\u001b[0;32m--> 242\u001b[0;31m         \u001b[0;32mraise\u001b[0m \u001b[0mexception_class\u001b[0m\u001b[0;34m(\u001b[0m\u001b[0mmessage\u001b[0m\u001b[0;34m,\u001b[0m \u001b[0mscreen\u001b[0m\u001b[0;34m,\u001b[0m \u001b[0mstacktrace\u001b[0m\u001b[0;34m)\u001b[0m\u001b[0;34m\u001b[0m\u001b[0;34m\u001b[0m\u001b[0m\n\u001b[0m\u001b[1;32m    243\u001b[0m \u001b[0;34m\u001b[0m\u001b[0m\n",
      "\u001b[0;31mWebDriverException\u001b[0m: Message: unknown error: session deleted because of page crash\nfrom unknown error: cannot determine loading status\nfrom tab crashed\n  (Session info: chrome=79.0.3945.130)\n",
      "\nDuring handling of the above exception, another exception occurred:\n",
      "\u001b[0;31mAttributeError\u001b[0m                            Traceback (most recent call last)",
      "\u001b[0;32m<ipython-input-31-8fe00b0830c0>\u001b[0m in \u001b[0;36m<module>\u001b[0;34m\u001b[0m\n\u001b[0;32m----> 1\u001b[0;31m \u001b[0mc\u001b[0m \u001b[0;34m=\u001b[0m \u001b[0mpull_distance_time\u001b[0m\u001b[0;34m(\u001b[0m\u001b[0mlist_zip_codes\u001b[0m\u001b[0;34m=\u001b[0m\u001b[0ma\u001b[0m\u001b[0;34m)\u001b[0m\u001b[0;34m\u001b[0m\u001b[0;34m\u001b[0m\u001b[0m\n\u001b[0m",
      "\u001b[0;32m<ipython-input-30-2daa2be4e93d>\u001b[0m in \u001b[0;36mpull_distance_time\u001b[0;34m(list_zip_codes)\u001b[0m\n\u001b[1;32m     75\u001b[0m                 \u001b[0mlist_travel_times\u001b[0m\u001b[0;34m.\u001b[0m\u001b[0mappend\u001b[0m\u001b[0;34m(\u001b[0m\u001b[0melement\u001b[0m\u001b[0;34m.\u001b[0m\u001b[0mtext\u001b[0m\u001b[0;34m)\u001b[0m\u001b[0;34m\u001b[0m\u001b[0;34m\u001b[0m\u001b[0m\n\u001b[1;32m     76\u001b[0m             \u001b[0;32mexcept\u001b[0m\u001b[0;34m:\u001b[0m\u001b[0;34m\u001b[0m\u001b[0;34m\u001b[0m\u001b[0m\n\u001b[0;32m---> 77\u001b[0;31m                 \u001b[0mlist_travel_times\u001b[0m\u001b[0;34m.\u001b[0m\u001b[0mappendend\u001b[0m\u001b[0;34m(\u001b[0m\u001b[0mnp\u001b[0m\u001b[0;34m.\u001b[0m\u001b[0mnan\u001b[0m\u001b[0;34m)\u001b[0m\u001b[0;34m\u001b[0m\u001b[0;34m\u001b[0m\u001b[0m\n\u001b[0m\u001b[1;32m     78\u001b[0m             \u001b[0;32mtry\u001b[0m\u001b[0;34m:\u001b[0m\u001b[0;34m\u001b[0m\u001b[0;34m\u001b[0m\u001b[0m\n\u001b[1;32m     79\u001b[0m                 \u001b[0melement\u001b[0m \u001b[0;34m=\u001b[0m \u001b[0mdriver\u001b[0m\u001b[0;34m.\u001b[0m\u001b[0mfind_element_by_xpath\u001b[0m\u001b[0;34m(\u001b[0m\u001b[0;34m'//*[@id=\"primaryPanel\"]/div[5]/div[3]/div/div/div[2]/div[1]/form/div[2]/div/div/div/route-info/div/div[2]/div[2]/div'\u001b[0m\u001b[0;34m)\u001b[0m\u001b[0;34m\u001b[0m\u001b[0;34m\u001b[0m\u001b[0m\n",
      "\u001b[0;31mAttributeError\u001b[0m: 'list' object has no attribute 'appendend'"
     ]
    }
   ],
   "source": [
    "c = pull_distance_time(list_zip_codes=a)"
   ]
  },
  {
   "cell_type": "code",
   "execution_count": 17,
   "metadata": {},
   "outputs": [
    {
     "data": {
      "text/plain": [
       "'01364,01366,01031,01368,01037,01331,01094,03447,01531,01005,01074,01436,01468,03452,01068,01475,01438,01452,01441,01440,03461,01543,03458,01612,01430,01473,01541,01522,03071,03084,01520,01431,01420,01583,01564,03086,01453,03048,01474,01462,01505,01469,01510,01561,03033,03055,01523,01464,01472,01503,01467,01434,03031,01740,01463,03049,01451,01450,01470,01471,01432,01749,03063,01719,03054,01775,01827,03062,01460,03064,03061,03060,01754,03052,01886,01720,01879,01718,01776,03051,03053,01863,01742,01741,01824,01854,01851,03076,01773,01853,01826,01850,03087,01852,01862,03041,01731,03038,01730,01822,01865,02451,01821,02421,01876,01866,03079,03073,02420,01803,02479,01805,01844,05501,02476,03841,01887,01810,01842,01841,02474,01843,03811,01840,01801,01813,01815,01888,01890,02475,01812,01899,01832,02156,03819,03826,02155,01867,02180,03865,01845,01864,01835,01889,01831,01880,03859,01885,03848,01830,02148,02176,03858,01940,01921,01949,03861,01906,01860,01834,03833,01937,01905,01833,03827,01960,01904,01985,03856,03857,01913,01923,01910,01903,01901,01983,01902,03823,01961,03824,01922,01970,01907,03885,01971,01969,03844,01950,01984,03874,01945,01952,01982,01915,01936,03843,03840,01951,01938,03842,03862,01965,03801,03903,01929,03871,01944,03802,03803,03804,03870,03904,03854,03905,01930,03909,01931,03911,01966'"
      ]
     },
     "execution_count": 17,
     "metadata": {},
     "output_type": "execute_result"
    }
   ],
   "source": [
    "a"
   ]
  },
  {
   "cell_type": "code",
   "execution_count": 148,
   "metadata": {},
   "outputs": [
    {
     "data": {
      "text/html": [
       "<div>\n",
       "<style scoped>\n",
       "    .dataframe tbody tr th:only-of-type {\n",
       "        vertical-align: middle;\n",
       "    }\n",
       "\n",
       "    .dataframe tbody tr th {\n",
       "        vertical-align: top;\n",
       "    }\n",
       "\n",
       "    .dataframe thead th {\n",
       "        text-align: right;\n",
       "    }\n",
       "</style>\n",
       "<table border=\"1\" class=\"dataframe\">\n",
       "  <thead>\n",
       "    <tr style=\"text-align: right;\">\n",
       "      <th></th>\n",
       "      <th>Zip_Codes</th>\n",
       "      <th>Time</th>\n",
       "      <th>Distance</th>\n",
       "    </tr>\n",
       "  </thead>\n",
       "  <tbody>\n",
       "    <tr>\n",
       "      <th>0</th>\n",
       "      <td>01430</td>\n",
       "      <td>1hr 22min</td>\n",
       "      <td>65.8mi</td>\n",
       "    </tr>\n",
       "    <tr>\n",
       "      <th>1</th>\n",
       "      <td>03071</td>\n",
       "      <td>1hr 34min</td>\n",
       "      <td>69.3mi</td>\n",
       "    </tr>\n",
       "    <tr>\n",
       "      <th>2</th>\n",
       "      <td>01431</td>\n",
       "      <td>1hr 23min</td>\n",
       "      <td>57.5mi</td>\n",
       "    </tr>\n",
       "    <tr>\n",
       "      <th>3</th>\n",
       "      <td>01420</td>\n",
       "      <td>1hr 6min</td>\n",
       "      <td>54.6mi</td>\n",
       "    </tr>\n",
       "  </tbody>\n",
       "</table>\n",
       "</div>"
      ],
      "text/plain": [
       "  Zip_Codes       Time Distance\n",
       "0     01430  1hr 22min   65.8mi\n",
       "1     03071  1hr 34min   69.3mi\n",
       "2     01431  1hr 23min   57.5mi\n",
       "3     01420   1hr 6min   54.6mi"
      ]
     },
     "execution_count": 148,
     "metadata": {},
     "output_type": "execute_result"
    }
   ],
   "source": [
    "d"
   ]
  },
  {
   "cell_type": "code",
   "execution_count": 92,
   "metadata": {},
   "outputs": [
    {
     "data": {
      "text/plain": [
       "1"
      ]
     },
     "execution_count": 92,
     "metadata": {},
     "output_type": "execute_result"
    }
   ],
   "source": [
    "h"
   ]
  },
  {
   "cell_type": "code",
   "execution_count": null,
   "metadata": {},
   "outputs": [],
   "source": []
  }
 ],
 "metadata": {
  "kernelspec": {
   "display_name": "Python 3",
   "language": "python",
   "name": "python3"
  },
  "language_info": {
   "codemirror_mode": {
    "name": "ipython",
    "version": 3
   },
   "file_extension": ".py",
   "mimetype": "text/x-python",
   "name": "python",
   "nbconvert_exporter": "python",
   "pygments_lexer": "ipython3",
   "version": "3.7.3"
  }
 },
 "nbformat": 4,
 "nbformat_minor": 4
}
